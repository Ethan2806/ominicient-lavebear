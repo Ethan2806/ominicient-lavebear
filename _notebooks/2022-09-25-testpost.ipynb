{
 "cells": [
  {
   "cell_type": "markdown",
   "metadata": {},
   "source": [
    "# JavaScript Test Post\n",
    ">JavaScript Test Post\n",
    "\n",
    "- toc: true\n",
    "- layout: post\n",
    "- description: Test Notebook post\n",
    "- categories: [Java]\n",
    "- title: JavaScript Test Post\n",
    "- show_tags: true\n",
    "- comments: tru"
   ]
  },
  {
   "cell_type": "markdown",
   "metadata": {},
   "source": [
    "# Hi"
   ]
  }
 ],
 "metadata": {
  "kernelspec": {
   "display_name": "JavaScript (Node.js)",
   "language": "javascript",
   "name": "javascript"
  },
  "language_info": {
   "name": "javascript"
  },
  "orig_nbformat": 4
 },
 "nbformat": 4,
 "nbformat_minor": 2
}
