{
 "cells": [
  {
   "cell_type": "markdown",
   "metadata": {},
   "source": [
    "# JavaScript Usage\n",
    "> A display of Using JavaScript Kernel\n",
    "\n",
    "- toc: true \n",
    "- badges: true\n",
    "- comments: true\n",
    "- categories: [JavaScript]"
   ]
  },
  {
   "cell_type": "code",
   "execution_count": 8,
   "metadata": {},
   "outputs": [
    {
     "name": "stdout",
     "output_type": "stream",
     "text": [
      "This is my use of JavaScript Kernel!\n"
     ]
    }
   ],
   "source": [
    "console.log(\"This is my use of JavaScript Kernel!\")"
   ]
  },
  {
   "cell_type": "markdown",
   "metadata": {},
   "source": [
    "## Submenu:\n",
    "### This is the navigation bar submenu I created with links to this page, and the Javascript program I created that outputs a random song from a playlist.\n",
    "\n",
    "{% include navbar.html %}"
   ]
  },
  {
   "cell_type": "markdown",
   "metadata": {},
   "source": [
    "## Coding of Navbar:\n",
    "![]({{site.baseurl}}/images/navbar.png \"https://github.com/LiavB2/ominicient-lavebear\")\n",
    "\n",
    "### As you can see, I created this table using Javascript and HTML fragments. This was made as an \"include\" so I can include this table in any post I want using the include command like so:\n",
    "\n",
    "![]({{site.baseurl}}/images/include.png \"https://github.com/LiavB2/ominicient-lavebear\")"
   ]
  },
  {
   "cell_type": "markdown",
   "metadata": {},
   "source": [
    "## Coding of Music Shuffle Song Selector:\n",
    "![]({{site.baseurl}}/images/musicshuffle.png \"https://github.com/LiavB2/ominicient-lavebear\")\n",
    "\n",
    "- I used numerous commands such as \"var\", \"randomSelect()\", \"document.getElementById\", \"const\", and \"onclick\"\n",
    "- This function takes a list of links to songs from a spotify playlist, and their names, and outputs a link to a random song from the push of the button."
   ]
  }
 ],
 "metadata": {
  "kernelspec": {
   "display_name": "JavaScript (Node.js)",
   "language": "javascript",
   "name": "javascript"
  },
  "language_info": {
   "file_extension": ".js",
   "mimetype": "application/javascript",
   "name": "javascript",
   "version": "6.11.2"
  },
  "orig_nbformat": 4,
  "vscode": {
   "interpreter": {
    "hash": "f92b2924b84ff19c1c3dc485f7644d4486f64738191026bf8e6de303969141b5"
   }
  }
 },
 "nbformat": 4,
 "nbformat_minor": 2
}
