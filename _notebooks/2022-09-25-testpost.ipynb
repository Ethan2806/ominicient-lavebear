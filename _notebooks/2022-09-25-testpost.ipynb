{
 "cells": [
  {
   "cell_type": "markdown",
   "metadata": {},
   "source": [
    "# JavaScript Test Post\n",
    ">JavaScript Test Post\n",
    "\n",
    "- toc: true\n",
    "- layout: post\n",
    "- description: Test Notebook post\n",
    "- categories: [Java]\n",
    "- title: JavaScript Test Post\n",
    "- show_tags: true\n",
    "- comments: tru"
   ]
  },
  {
   "cell_type": "code",
   "execution_count": 1,
   "metadata": {},
   "outputs": [
    {
     "name": "stdout",
     "output_type": "stream",
     "text": [
      "This is my use of JavaScript Kernel!\n"
     ]
    }
   ],
   "source": [
    "console.log(\"This is my use of JavaScript Kernel!\")"
   ]
  },
  {
   "cell_type": "markdown",
   "metadata": {},
   "source": [
    "## Submenu:\n",
    "### This is the navigation bar submenu I created with links to this page, and the Javascript program I created that outputs a random song from a playlist.\n",
    "\n",
    "{% include navbar.html %}"
   ]
  }
 ],
 "metadata": {
  "kernelspec": {
   "display_name": "JavaScript (Node.js)",
   "language": "javascript",
   "name": "javascript"
  },
  "language_info": {
   "file_extension": ".js",
   "mimetype": "application/javascript",
   "name": "javascript",
   "version": "6.11.2"
  },
  "orig_nbformat": 4
 },
 "nbformat": 4,
 "nbformat_minor": 2
}
