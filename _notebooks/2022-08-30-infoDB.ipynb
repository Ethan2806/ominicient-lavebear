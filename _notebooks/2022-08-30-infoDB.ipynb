{
 "cells": [
  {
   "cell_type": "markdown",
   "metadata": {},
   "source": [
    "# First Draft of Lists and Dictionaries\n",
    "> Creating Lists and a Quiz on the CSP Dictionary\n",
    "\n",
    "- toc: true\n",
    "- layout: post\n",
    "- description: Lists and Dictionaries\n",
    "- categories: [Python]\n",
    "- title: Lists and Dictionaries\n",
    "- show_tags: true\n",
    "- comments: true"
   ]
  },
  {
   "cell_type": "code",
   "execution_count": 4,
   "metadata": {},
   "outputs": [
    {
     "name": "stdout",
     "output_type": "stream",
     "text": [
      "What is the variable name/key? value? type? primitive or collection, why?\n",
      "name John Doe <class 'str'>\n",
      "\n",
      "What is the variable name/key? value? type? primitive or collection, why?\n",
      "age 18 <class 'int'>\n",
      "\n",
      "What is the variable name/key? value? type? primitive or collection, why?\n",
      "score 90.0 <class 'float'>\n",
      "\n",
      "What is variable name/key? value? type? primitive or collection?\n",
      "What is different about the list output?\n",
      "langs ['Python', 'JavaScript', 'Java'] <class 'list'> length 3\n",
      "- langs[0] Python <class 'str'>\n",
      "\n",
      "What is the variable name/key? value? type? primitive or collection, why?\n",
      "What is different about the dictionary output?\n",
      "person {'name': 'John Doe', 'age': 18, 'score': 90.0, 'langs': ['Python', 'JavaScript', 'Java']} <class 'dict'> length 4\n",
      "- person[\"name\"] John Doe <class 'str'>\n"
     ]
    }
   ],
   "source": [
    "# variable of type string\n",
    "print(\"What is the variable name/key?\", \"value?\", \"type?\", \"primitive or collection, why?\")\n",
    "name = \"John Doe\"\n",
    "print(\"name\", name, type(name))\n",
    "\n",
    "print()\n",
    "\n",
    "\n",
    "# variable of type integer\n",
    "print(\"What is the variable name/key?\", \"value?\", \"type?\", \"primitive or collection, why?\")\n",
    "age = 18\n",
    "print(\"age\", age, type(age))\n",
    "\n",
    "print()\n",
    "\n",
    "# variable of type float\n",
    "print(\"What is the variable name/key?\", \"value?\", \"type?\", \"primitive or collection, why?\")\n",
    "score = 90.0\n",
    "print(\"score\", score, type(score))\n",
    "\n",
    "print()\n",
    "\n",
    "# variable of type list (many values in one variable)\n",
    "print(\"What is variable name/key?\", \"value?\", \"type?\", \"primitive or collection?\")\n",
    "print(\"What is different about the list output?\")\n",
    "langs = [\"Python\", \"JavaScript\", \"Java\"]\n",
    "print(\"langs\", langs, type(langs), \"length\", len(langs))\n",
    "print(\"- langs[0]\", langs[0], type(langs[0]))\n",
    "\n",
    "print()\n",
    "\n",
    "# variable of type dictionary (a group of keys and values)\n",
    "print(\"What is the variable name/key?\", \"value?\", \"type?\", \"primitive or collection, why?\")\n",
    "print(\"What is different about the dictionary output?\")\n",
    "person = {\n",
    "    \"name\": name,\n",
    "    \"age\": age,\n",
    "    \"score\": score,\n",
    "    \"langs\": langs\n",
    "}\n",
    "print(\"person\", person, type(person), \"length\", len(person))\n",
    "print('- person[\"name\"]', person[\"name\"], type(person[\"name\"]))"
   ]
  },
  {
   "cell_type": "code",
   "execution_count": 3,
   "metadata": {},
   "outputs": [
    {
     "name": "stdout",
     "output_type": "stream",
     "text": [
      "[{'FirstName': 'John', 'LastName': 'Mortensen', 'DOB': 'October 21', 'Residence': 'San Diego', 'Email': 'jmortensen@powayusd.com', 'Owns_Cars': ['2015-Fusion', '2011-Ranger', '2003-Excursion', '1997-F350', '1969-Cadillac']}, {'FirstName': 'Sunny', 'LastName': 'Naidu', 'DOB': 'August 2', 'Residence': 'Temecula', 'Email': 'snaidu@powayusd.com', 'Owns_Cars': ['4Runner']}, {'FirstName': 'Liav', 'LastName': 'Bar', 'DOB': 'August 9', 'Residence': 'San Diego', 'Email': 'liavbar5@gmail.com', 'Owns_Cars': ['2020-Camry', '2017-Sorento']}, {'FirstName': \"Re'em\", 'LastName': 'Ben-Ishai', 'DOB': 'May 11', 'Residence': 'San Diego', 'Email': 'ReemB@powayusd.com', 'Owns_Cars': ['2021-Kona']}]\n"
     ]
    }
   ],
   "source": [
    "InfoDb = []\n",
    "\n",
    "# InfoDB is a data structure with expected Keys and Values\n",
    "\n",
    "# Append to List a Dictionary of key/values related to a person and cars\n",
    "InfoDb.append({\n",
    "    \"FirstName\": \"John\",\n",
    "    \"LastName\": \"Mortensen\",\n",
    "    \"DOB\": \"October 21\",\n",
    "    \"Residence\": \"San Diego\",\n",
    "    \"Email\": \"jmortensen@powayusd.com\",\n",
    "    \"Owns_Cars\": [\"2015-Fusion\", \"2011-Ranger\", \"2003-Excursion\", \"1997-F350\", \"1969-Cadillac\"]\n",
    "})\n",
    "\n",
    "# Append to List a 2nd Dictionary of key/values\n",
    "InfoDb.append({\n",
    "    \"FirstName\": \"Sunny\",\n",
    "    \"LastName\": \"Naidu\",\n",
    "    \"DOB\": \"August 2\",\n",
    "    \"Residence\": \"Temecula\",\n",
    "    \"Email\": \"snaidu@powayusd.com\",\n",
    "    \"Owns_Cars\": [\"4Runner\"]\n",
    "})\n",
    "\n",
    "# Print the data structure\n",
    "# InfoDB is a data structure with expected Keys and Values\n",
    "\n",
    "# Append to List a Dictionary of key/values related to a person and cars\n",
    "InfoDb.append({\n",
    "    \"FirstName\": \"Liav\",\n",
    "    \"LastName\": \"Bar\",\n",
    "    \"DOB\": \"August 9\",\n",
    "    \"Residence\": \"San Diego\",\n",
    "    \"Email\": \"liavbar5@gmail.com\",\n",
    "    \"Owns_Cars\": [\"2020-Camry\", \"2017-Sorento\"]\n",
    "})\n",
    "\n",
    "# Append to List a 2nd Dictionary of key/values\n",
    "InfoDb.append({\n",
    "    \"FirstName\": \"Re'em\",\n",
    "    \"LastName\": \"Ben-Ishai\",\n",
    "    \"DOB\": \"May 11\",\n",
    "    \"Residence\": \"San Diego\",\n",
    "    \"Email\": \"ReemB@powayusd.com\",\n",
    "    \"Owns_Cars\": [\"2021-Kona\"]\n",
    "})\n",
    "\n",
    "# Print the data structure\n",
    "print(InfoDb)"
   ]
  },
  {
   "cell_type": "markdown",
   "metadata": {},
   "source": [
    "## Using Index in For Loop"
   ]
  },
  {
   "cell_type": "code",
   "execution_count": 6,
   "metadata": {},
   "outputs": [
    {
     "name": "stdout",
     "output_type": "stream",
     "text": [
      "Mercedes\n",
      "Toyota\n",
      "Tesla\n",
      "Honda\n",
      "Hyundai\n",
      "Bugatti\n"
     ]
    }
   ],
   "source": [
    "list = [\"Mercedes\",\"Toyota\",\"Tesla\",\"Honda\",\"Hyundai\",\"Bugatti\"] \n",
    "for i in list: \n",
    "    print(i)"
   ]
  },
  {
   "cell_type": "markdown",
   "metadata": {},
   "source": [
    "## Outputing In Reverse Order"
   ]
  },
  {
   "cell_type": "code",
   "execution_count": 10,
   "metadata": {},
   "outputs": [
    {
     "name": "stdout",
     "output_type": "stream",
     "text": [
      "sedecreM\n",
      "['Bugatti', 'Hyundai', 'Honda', 'Tesla', 'Toyota', 'Mercedes']\n",
      "atoyoT\n",
      "['Bugatti', 'Hyundai', 'Honda', 'Tesla', 'Toyota', 'Mercedes']\n",
      "alseT\n",
      "['Bugatti', 'Hyundai', 'Honda', 'Tesla', 'Toyota', 'Mercedes']\n",
      "adnoH\n",
      "['Bugatti', 'Hyundai', 'Honda', 'Tesla', 'Toyota', 'Mercedes']\n",
      "iadnuyH\n",
      "['Bugatti', 'Hyundai', 'Honda', 'Tesla', 'Toyota', 'Mercedes']\n",
      "ittaguB\n",
      "['Bugatti', 'Hyundai', 'Honda', 'Tesla', 'Toyota', 'Mercedes']\n"
     ]
    }
   ],
   "source": [
    "list = [\"Mercedes\",\"Toyota\",\"Tesla\",\"Honda\",\"Hyundai\",\"Bugatti\"] \n",
    "for i in list: \n",
    "    print(i[::-1])\n",
    "    print(list[::-1])"
   ]
  },
  {
   "cell_type": "markdown",
   "metadata": {},
   "source": [
    "## Print Function and While Loop/Recursion (More List Methods)"
   ]
  },
  {
   "cell_type": "code",
   "execution_count": null,
   "metadata": {},
   "outputs": [],
   "source": [
    "# print function: given a dictionary of InfoDb content\n",
    "def print_data(d_rec):\n",
    "    print(d_rec[\"FirstName\"], d_rec[\"LastName\"])  # using comma puts space between values\n",
    "    print(\"\\t\", \"Residence:\", d_rec[\"Residence\"]) # \\t is a tab indent\n",
    "    print(\"\\t\", \"Birth Day:\", d_rec[\"DOB\"])\n",
    "    print(\"\\t\", \"Cars: \", end=\"\")  # end=\"\" make sure no return occurs\n",
    "    print(\", \".join(d_rec[\"Owns_Cars\"]))  # join allows printing a string list with separator\n",
    "    print()\n",
    "\n",
    "\n",
    "# for loop algorithm iterates on length of InfoDb\n",
    "def for_loop():\n",
    "    print(\"For loop output\\n\")\n",
    "    for record in InfoDb:\n",
    "        print_data(record)\n",
    "\n",
    "for_loop()\n",
    "\n",
    "# while loop algorithm contains an initial n and an index incrementing statement (n += 1)\n",
    "def while_loop():\n",
    "    print(\"While loop output\\n\")\n",
    "    i = 0\n",
    "    while i < len(InfoDb):\n",
    "        record = InfoDb[i]\n",
    "        print_data(record)\n",
    "        i += 1\n",
    "    return\n",
    "\n",
    "while_loop()"
   ]
  },
  {
   "cell_type": "markdown",
   "metadata": {},
   "source": [
    "## QuizThat Stores In a List of Dictionaries "
   ]
  },
  {
   "cell_type": "code",
   "execution_count": null,
   "metadata": {},
   "outputs": [
    {
     "name": "stdout",
     "output_type": "stream",
     "text": [
      "Question: What command is used to include other functions that were previously developed?\n",
      "You got it right!!\n",
      "Question: What command is used to evaluate correct or incorrect response in this example?\n",
      "You got it right!!\n",
      "Question: Each 'if' command contains an '_________' to determine a true or false condition?\n",
      "You got it right!!\n",
      "Question: Variables for the values the function needs. Is passed as an argument when the function is called\n",
      "You got it right!!\n",
      "4/4\n"
     ]
    }
   ],
   "source": [
    "def question_with_response(prompt):\n",
    "    print(\"Question: \" + prompt) \n",
    "\n",
    "\n",
    "\n",
    "word = \" \"\n",
    "questions = 4 # number of questions\n",
    "correct = 0\n",
    "\n",
    "\n",
    "questions_answers = [{\"What command is used to include other functions that were previously developed?\" : \"import\", \n",
    "                     \"What command is used to evaluate correct or incorrect response in this example?\" : \"if\", \n",
    "                     \"Each 'if' command contains an '_________' to determine a true or false condition?\" : \"expression\",\n",
    "                     \"Variables for the values the function needs. Is passed as an argument when the function is called\" : \"parameters\"}] # dictionary\n",
    "# questions_answers.append = ({\"What command is used to include other functions that were previously developed?\" : \"import\", \n",
    "#                      \"What command is used to evaluate correct or incorrect response in this example?\" : \"if\", \n",
    "#                      \"Each 'if' command contains an '_________' to determine a true or false condition?\" : \"expression\",\n",
    "#                      \"Variables for the values the function needs. Is passed as an argument when the function is called\" : \"parameters\"}) # dictionary\n",
    "\n",
    "for i in questions_answers:\n",
    "    for question, answer in i.items():\n",
    "        question_with_response(question) # printing the questions\n",
    "        word = input(\"Answer: \") # variable that connects to the user's input\n",
    "        if word == answer:  # if the answer provided is correct\n",
    "            print(\"You got it right!!\")\n",
    "            correct += 1\n",
    "        else:  # if the answer provided is wrong\n",
    "            print(\"Your answer was wrong\")\n",
    "\n",
    "print(str(correct) + \"/\" + str(questions)) # correct/len(questions_answers)"
   ]
  }
 ],
 "metadata": {
  "kernelspec": {
   "display_name": "Python 3.9.12 ('base')",
   "language": "python",
   "name": "python3"
  },
  "language_info": {
   "codemirror_mode": {
    "name": "ipython",
    "version": 3
   },
   "file_extension": ".py",
   "mimetype": "text/x-python",
   "name": "python",
   "nbconvert_exporter": "python",
   "pygments_lexer": "ipython3",
   "version": "3.9.12"
  },
  "orig_nbformat": 4,
  "vscode": {
   "interpreter": {
    "hash": "9ad226fb37a9fe92963762e2f5cdd2c1c77b376a6660d6f587a643de3c6682f8"
   }
  }
 },
 "nbformat": 4,
 "nbformat_minor": 2
}
